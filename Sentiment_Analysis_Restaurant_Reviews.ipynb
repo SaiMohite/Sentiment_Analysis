{
 "cells": [
  {
   "cell_type": "code",
   "execution_count": 2,
   "id": "798b8700-f402-46fd-bdef-699f12ba8508",
   "metadata": {},
   "outputs": [],
   "source": [
    "import pandas as pd\n",
    "import numpy as np\n",
    "import re           # used for working with regular expressions"
   ]
  },
  {
   "cell_type": "code",
   "execution_count": 4,
   "id": "49f6a964-9830-4909-896c-ded0fcac1b00",
   "metadata": {},
   "outputs": [],
   "source": [
    "# Load the dataset\n",
    "data = pd.read_csv(r\"C:\\Users\\shashi\\Downloads\\European Restaurant Reviews.csv\")"
   ]
  },
  {
   "cell_type": "code",
   "execution_count": 8,
   "id": "c7aa0499-afa0-4810-829b-c1928da3800b",
   "metadata": {},
   "outputs": [
    {
     "data": {
      "text/html": [
       "<div>\n",
       "<style scoped>\n",
       "    .dataframe tbody tr th:only-of-type {\n",
       "        vertical-align: middle;\n",
       "    }\n",
       "\n",
       "    .dataframe tbody tr th {\n",
       "        vertical-align: top;\n",
       "    }\n",
       "\n",
       "    .dataframe thead th {\n",
       "        text-align: right;\n",
       "    }\n",
       "</style>\n",
       "<table border=\"1\" class=\"dataframe\">\n",
       "  <thead>\n",
       "    <tr style=\"text-align: right;\">\n",
       "      <th></th>\n",
       "      <th>Country</th>\n",
       "      <th>Restaurant Name</th>\n",
       "      <th>Sentiment</th>\n",
       "      <th>Review Title</th>\n",
       "      <th>Review Date</th>\n",
       "      <th>Review</th>\n",
       "    </tr>\n",
       "  </thead>\n",
       "  <tbody>\n",
       "    <tr>\n",
       "      <th>0</th>\n",
       "      <td>France</td>\n",
       "      <td>The Frog at Bercy Village</td>\n",
       "      <td>Negative</td>\n",
       "      <td>Rude manager</td>\n",
       "      <td>May 2024 •</td>\n",
       "      <td>The manager became agressive when I said the c...</td>\n",
       "    </tr>\n",
       "    <tr>\n",
       "      <th>1</th>\n",
       "      <td>France</td>\n",
       "      <td>The Frog at Bercy Village</td>\n",
       "      <td>Negative</td>\n",
       "      <td>A big disappointment</td>\n",
       "      <td>Feb 2024 •</td>\n",
       "      <td>I ordered a beef fillet ask to be done medium,...</td>\n",
       "    </tr>\n",
       "    <tr>\n",
       "      <th>2</th>\n",
       "      <td>France</td>\n",
       "      <td>The Frog at Bercy Village</td>\n",
       "      <td>Negative</td>\n",
       "      <td>Pretty Place with Bland Food</td>\n",
       "      <td>Nov 2023 •</td>\n",
       "      <td>This is an attractive venue with welcoming, al...</td>\n",
       "    </tr>\n",
       "    <tr>\n",
       "      <th>3</th>\n",
       "      <td>France</td>\n",
       "      <td>The Frog at Bercy Village</td>\n",
       "      <td>Negative</td>\n",
       "      <td>Great service and wine but inedible food</td>\n",
       "      <td>Mar 2023 •</td>\n",
       "      <td>Sadly I  used the high TripAdvisor rating too ...</td>\n",
       "    </tr>\n",
       "    <tr>\n",
       "      <th>4</th>\n",
       "      <td>France</td>\n",
       "      <td>The Frog at Bercy Village</td>\n",
       "      <td>Negative</td>\n",
       "      <td>Avoid- Worst meal in Rome - possibly ever</td>\n",
       "      <td>Nov 2022 •</td>\n",
       "      <td>From the start this meal was bad- especially g...</td>\n",
       "    </tr>\n",
       "  </tbody>\n",
       "</table>\n",
       "</div>"
      ],
      "text/plain": [
       "  Country            Restaurant Name Sentiment  \\\n",
       "0  France  The Frog at Bercy Village  Negative   \n",
       "1  France  The Frog at Bercy Village  Negative   \n",
       "2  France  The Frog at Bercy Village  Negative   \n",
       "3  France  The Frog at Bercy Village  Negative   \n",
       "4  France  The Frog at Bercy Village  Negative   \n",
       "\n",
       "                                Review Title Review Date  \\\n",
       "0                               Rude manager  May 2024 •   \n",
       "1                       A big disappointment  Feb 2024 •   \n",
       "2               Pretty Place with Bland Food  Nov 2023 •   \n",
       "3   Great service and wine but inedible food  Mar 2023 •   \n",
       "4  Avoid- Worst meal in Rome - possibly ever  Nov 2022 •   \n",
       "\n",
       "                                              Review  \n",
       "0  The manager became agressive when I said the c...  \n",
       "1  I ordered a beef fillet ask to be done medium,...  \n",
       "2  This is an attractive venue with welcoming, al...  \n",
       "3  Sadly I  used the high TripAdvisor rating too ...  \n",
       "4  From the start this meal was bad- especially g...  "
      ]
     },
     "execution_count": 8,
     "metadata": {},
     "output_type": "execute_result"
    }
   ],
   "source": [
    "data.head()      # dataset preview"
   ]
  },
  {
   "cell_type": "code",
   "execution_count": 10,
   "id": "aeb76199-e1f0-4bb2-a6b3-6590b8afc5f1",
   "metadata": {},
   "outputs": [
    {
     "data": {
      "text/plain": [
       "Index(['Country', 'Restaurant Name', 'Sentiment', 'Review Title',\n",
       "       'Review Date', 'Review'],\n",
       "      dtype='object')"
      ]
     },
     "execution_count": 10,
     "metadata": {},
     "output_type": "execute_result"
    }
   ],
   "source": [
    "data.columns"
   ]
  },
  {
   "cell_type": "code",
   "execution_count": 12,
   "id": "1e782899-d8a5-45a2-ab77-b062e4918ef0",
   "metadata": {},
   "outputs": [],
   "source": [
    "positive_sentiments = data[data['Sentiment'] == 'Positive']"
   ]
  },
  {
   "cell_type": "code",
   "execution_count": 14,
   "id": "5465358a-7c52-42d5-9643-368cdcb78a30",
   "metadata": {},
   "outputs": [
    {
     "data": {
      "text/html": [
       "<div>\n",
       "<style scoped>\n",
       "    .dataframe tbody tr th:only-of-type {\n",
       "        vertical-align: middle;\n",
       "    }\n",
       "\n",
       "    .dataframe tbody tr th {\n",
       "        vertical-align: top;\n",
       "    }\n",
       "\n",
       "    .dataframe thead th {\n",
       "        text-align: right;\n",
       "    }\n",
       "</style>\n",
       "<table border=\"1\" class=\"dataframe\">\n",
       "  <thead>\n",
       "    <tr style=\"text-align: right;\">\n",
       "      <th></th>\n",
       "      <th>Country</th>\n",
       "      <th>Restaurant Name</th>\n",
       "      <th>Sentiment</th>\n",
       "      <th>Review Title</th>\n",
       "      <th>Review Date</th>\n",
       "      <th>Review</th>\n",
       "    </tr>\n",
       "  </thead>\n",
       "  <tbody>\n",
       "    <tr>\n",
       "      <th>152</th>\n",
       "      <td>France</td>\n",
       "      <td>The Frog at Bercy Village</td>\n",
       "      <td>Positive</td>\n",
       "      <td>Wonderful</td>\n",
       "      <td>Jun 2024 •</td>\n",
       "      <td>We booked the Frog in advance and pleased we d...</td>\n",
       "    </tr>\n",
       "    <tr>\n",
       "      <th>153</th>\n",
       "      <td>France</td>\n",
       "      <td>The Frog at Bercy Village</td>\n",
       "      <td>Positive</td>\n",
       "      <td>Excellent family dinner.</td>\n",
       "      <td>Jun 2024 •</td>\n",
       "      <td>Great atmosphere, very popular bar + restauran...</td>\n",
       "    </tr>\n",
       "    <tr>\n",
       "      <th>154</th>\n",
       "      <td>France</td>\n",
       "      <td>The Frog at Bercy Village</td>\n",
       "      <td>Positive</td>\n",
       "      <td>Nice lemonade</td>\n",
       "      <td>Jun 2024 •</td>\n",
       "      <td>Nice little place at Bercy Village. Lovely ser...</td>\n",
       "    </tr>\n",
       "    <tr>\n",
       "      <th>155</th>\n",
       "      <td>France</td>\n",
       "      <td>The Frog at Bercy Village</td>\n",
       "      <td>Positive</td>\n",
       "      <td>Good hangout</td>\n",
       "      <td>May 2024 •</td>\n",
       "      <td>Great place to hang out with friends for drink...</td>\n",
       "    </tr>\n",
       "    <tr>\n",
       "      <th>156</th>\n",
       "      <td>France</td>\n",
       "      <td>The Frog at Bercy Village</td>\n",
       "      <td>Positive</td>\n",
       "      <td>Great fast Service and Delicious food</td>\n",
       "      <td>May 2024 •</td>\n",
       "      <td>I tried Frog for the first time since my hotel...</td>\n",
       "    </tr>\n",
       "  </tbody>\n",
       "</table>\n",
       "</div>"
      ],
      "text/plain": [
       "    Country            Restaurant Name Sentiment  \\\n",
       "152  France  The Frog at Bercy Village  Positive   \n",
       "153  France  The Frog at Bercy Village  Positive   \n",
       "154  France  The Frog at Bercy Village  Positive   \n",
       "155  France  The Frog at Bercy Village  Positive   \n",
       "156  France  The Frog at Bercy Village  Positive   \n",
       "\n",
       "                              Review Title Review Date  \\\n",
       "152                              Wonderful  Jun 2024 •   \n",
       "153               Excellent family dinner.  Jun 2024 •   \n",
       "154                          Nice lemonade  Jun 2024 •   \n",
       "155                           Good hangout  May 2024 •   \n",
       "156  Great fast Service and Delicious food  May 2024 •   \n",
       "\n",
       "                                                Review  \n",
       "152  We booked the Frog in advance and pleased we d...  \n",
       "153  Great atmosphere, very popular bar + restauran...  \n",
       "154  Nice little place at Bercy Village. Lovely ser...  \n",
       "155  Great place to hang out with friends for drink...  \n",
       "156  I tried Frog for the first time since my hotel...  "
      ]
     },
     "execution_count": 14,
     "metadata": {},
     "output_type": "execute_result"
    }
   ],
   "source": [
    "positive_sentiments.head()"
   ]
  },
  {
   "cell_type": "code",
   "execution_count": 16,
   "id": "e4818124-8ccf-43cc-98bb-23edc6a3dd4f",
   "metadata": {},
   "outputs": [],
   "source": [
    "negative_sentiments = data[data['Sentiment'] == 'Negative']"
   ]
  },
  {
   "cell_type": "code",
   "execution_count": 18,
   "id": "b425e353-df4e-4253-a0af-2fe3b4902508",
   "metadata": {},
   "outputs": [
    {
     "data": {
      "text/html": [
       "<div>\n",
       "<style scoped>\n",
       "    .dataframe tbody tr th:only-of-type {\n",
       "        vertical-align: middle;\n",
       "    }\n",
       "\n",
       "    .dataframe tbody tr th {\n",
       "        vertical-align: top;\n",
       "    }\n",
       "\n",
       "    .dataframe thead th {\n",
       "        text-align: right;\n",
       "    }\n",
       "</style>\n",
       "<table border=\"1\" class=\"dataframe\">\n",
       "  <thead>\n",
       "    <tr style=\"text-align: right;\">\n",
       "      <th></th>\n",
       "      <th>Country</th>\n",
       "      <th>Restaurant Name</th>\n",
       "      <th>Sentiment</th>\n",
       "      <th>Review Title</th>\n",
       "      <th>Review Date</th>\n",
       "      <th>Review</th>\n",
       "    </tr>\n",
       "  </thead>\n",
       "  <tbody>\n",
       "    <tr>\n",
       "      <th>0</th>\n",
       "      <td>France</td>\n",
       "      <td>The Frog at Bercy Village</td>\n",
       "      <td>Negative</td>\n",
       "      <td>Rude manager</td>\n",
       "      <td>May 2024 •</td>\n",
       "      <td>The manager became agressive when I said the c...</td>\n",
       "    </tr>\n",
       "    <tr>\n",
       "      <th>1</th>\n",
       "      <td>France</td>\n",
       "      <td>The Frog at Bercy Village</td>\n",
       "      <td>Negative</td>\n",
       "      <td>A big disappointment</td>\n",
       "      <td>Feb 2024 •</td>\n",
       "      <td>I ordered a beef fillet ask to be done medium,...</td>\n",
       "    </tr>\n",
       "    <tr>\n",
       "      <th>2</th>\n",
       "      <td>France</td>\n",
       "      <td>The Frog at Bercy Village</td>\n",
       "      <td>Negative</td>\n",
       "      <td>Pretty Place with Bland Food</td>\n",
       "      <td>Nov 2023 •</td>\n",
       "      <td>This is an attractive venue with welcoming, al...</td>\n",
       "    </tr>\n",
       "    <tr>\n",
       "      <th>3</th>\n",
       "      <td>France</td>\n",
       "      <td>The Frog at Bercy Village</td>\n",
       "      <td>Negative</td>\n",
       "      <td>Great service and wine but inedible food</td>\n",
       "      <td>Mar 2023 •</td>\n",
       "      <td>Sadly I  used the high TripAdvisor rating too ...</td>\n",
       "    </tr>\n",
       "    <tr>\n",
       "      <th>4</th>\n",
       "      <td>France</td>\n",
       "      <td>The Frog at Bercy Village</td>\n",
       "      <td>Negative</td>\n",
       "      <td>Avoid- Worst meal in Rome - possibly ever</td>\n",
       "      <td>Nov 2022 •</td>\n",
       "      <td>From the start this meal was bad- especially g...</td>\n",
       "    </tr>\n",
       "  </tbody>\n",
       "</table>\n",
       "</div>"
      ],
      "text/plain": [
       "  Country            Restaurant Name Sentiment  \\\n",
       "0  France  The Frog at Bercy Village  Negative   \n",
       "1  France  The Frog at Bercy Village  Negative   \n",
       "2  France  The Frog at Bercy Village  Negative   \n",
       "3  France  The Frog at Bercy Village  Negative   \n",
       "4  France  The Frog at Bercy Village  Negative   \n",
       "\n",
       "                                Review Title Review Date  \\\n",
       "0                               Rude manager  May 2024 •   \n",
       "1                       A big disappointment  Feb 2024 •   \n",
       "2               Pretty Place with Bland Food  Nov 2023 •   \n",
       "3   Great service and wine but inedible food  Mar 2023 •   \n",
       "4  Avoid- Worst meal in Rome - possibly ever  Nov 2022 •   \n",
       "\n",
       "                                              Review  \n",
       "0  The manager became agressive when I said the c...  \n",
       "1  I ordered a beef fillet ask to be done medium,...  \n",
       "2  This is an attractive venue with welcoming, al...  \n",
       "3  Sadly I  used the high TripAdvisor rating too ...  \n",
       "4  From the start this meal was bad- especially g...  "
      ]
     },
     "execution_count": 18,
     "metadata": {},
     "output_type": "execute_result"
    }
   ],
   "source": [
    "negative_sentiments.head()"
   ]
  },
  {
   "cell_type": "code",
   "execution_count": 20,
   "id": "116fbbb2-c9b0-4ec2-890c-528fc5083558",
   "metadata": {},
   "outputs": [
    {
     "data": {
      "text/plain": [
       "(1502, 6)"
      ]
     },
     "execution_count": 20,
     "metadata": {},
     "output_type": "execute_result"
    }
   ],
   "source": [
    "data.shape"
   ]
  },
  {
   "cell_type": "code",
   "execution_count": 22,
   "id": "2876c1af-5e51-41ba-9fc2-2dd166d9605b",
   "metadata": {},
   "outputs": [
    {
     "data": {
      "text/plain": [
       "(1237, 6)"
      ]
     },
     "execution_count": 22,
     "metadata": {},
     "output_type": "execute_result"
    }
   ],
   "source": [
    "positive_sentiments.shape"
   ]
  },
  {
   "cell_type": "code",
   "execution_count": 24,
   "id": "13828e3e-35f7-4481-8110-4fd1aa6edc9c",
   "metadata": {},
   "outputs": [
    {
     "data": {
      "text/plain": [
       "(265, 6)"
      ]
     },
     "execution_count": 24,
     "metadata": {},
     "output_type": "execute_result"
    }
   ],
   "source": [
    "negative_sentiments.shape"
   ]
  },
  {
   "cell_type": "code",
   "execution_count": 26,
   "id": "2a1dfe77-da76-46ec-823b-981b3548d7cb",
   "metadata": {},
   "outputs": [
    {
     "name": "stdout",
     "output_type": "stream",
     "text": [
      "Percentage of positive sentiments: 82.35685752330227\n"
     ]
    }
   ],
   "source": [
    "print(\"Percentage of positive sentiments:\",(1237/1502)*100)"
   ]
  },
  {
   "cell_type": "code",
   "execution_count": 28,
   "id": "b020bd27-4fab-409f-989d-838b7228d9c1",
   "metadata": {},
   "outputs": [
    {
     "name": "stdout",
     "output_type": "stream",
     "text": [
      "Percentage of negative sentiments: 17.643142476697736\n"
     ]
    }
   ],
   "source": [
    "print(\"Percentage of negative sentiments:\",(265/1502)*100)"
   ]
  },
  {
   "cell_type": "code",
   "execution_count": 30,
   "id": "291b945b-796e-4f7a-bdd4-0d785c92d4af",
   "metadata": {},
   "outputs": [
    {
     "name": "stdout",
     "output_type": "stream",
     "text": [
      "Dataset Preview (Review and Sentiment columns only):\n",
      "                                              Review Sentiment\n",
      "0  The manager became agressive when I said the c...  Negative\n",
      "1  I ordered a beef fillet ask to be done medium,...  Negative\n",
      "2  This is an attractive venue with welcoming, al...  Negative\n",
      "3  Sadly I  used the high TripAdvisor rating too ...  Negative\n",
      "4  From the start this meal was bad- especially g...  Negative\n"
     ]
    }
   ],
   "source": [
    "# Display only sentiment and review columns\n",
    "data = data[[\"Review\", \"Sentiment\"]]\n",
    "print(\"Dataset Preview (Review and Sentiment columns only):\")\n",
    "print(data.head())"
   ]
  },
  {
   "cell_type": "code",
   "execution_count": 32,
   "id": "38478fad-f9cd-428d-8209-32ff406d0c7c",
   "metadata": {},
   "outputs": [],
   "source": [
    "# Specify columns for analysis\n",
    "review_column = 'Review'\n",
    "sentiment_column = 'Sentiment'"
   ]
  },
  {
   "cell_type": "code",
   "execution_count": 34,
   "id": "b2348db5-8f8c-4f95-a264-e06affc1af35",
   "metadata": {},
   "outputs": [],
   "source": [
    "# Data Preprocessing\n",
    "def clean_text(text):\n",
    "    \"\"\"Cleans the input text by removing special characters, numbers, extra spaces, and applying stemming.\"\"\"\n",
    "    text = re.sub(r'[^a-zA-Z\\s]', '', text)          # Remove special characters and numbers\n",
    "    text = re.sub(r'\\s+', ' ', text)                 # Remove extra spaces\n",
    "    text = text.strip().lower()\n",
    "    \n",
    "    # Tokenize and apply stemming\n",
    "    tokens = word_tokenize(text)\n",
    "    stemmer = PorterStemmer()\n",
    "    text = ' '.join([stemmer.stem(word) for word in tokens])\n",
    "    \n",
    "    return text"
   ]
  },
  {
   "cell_type": "code",
   "execution_count": 38,
   "id": "74b7ca15-3160-4f01-afea-0e8d93744be1",
   "metadata": {},
   "outputs": [],
   "source": [
    "from nltk.stem import PorterStemmer\n",
    "from nltk.tokenize import word_tokenize\n",
    "import nltk"
   ]
  },
  {
   "cell_type": "code",
   "execution_count": 40,
   "id": "2354a58d-99a9-4fc1-a10c-124a8e12c6d5",
   "metadata": {},
   "outputs": [
    {
     "name": "stderr",
     "output_type": "stream",
     "text": [
      "[nltk_data] Downloading package punkt to\n",
      "[nltk_data]     C:\\Users\\shashi\\AppData\\Roaming\\nltk_data...\n",
      "[nltk_data]   Package punkt is already up-to-date!\n"
     ]
    },
    {
     "data": {
      "text/plain": [
       "True"
      ]
     },
     "execution_count": 40,
     "metadata": {},
     "output_type": "execute_result"
    }
   ],
   "source": [
    "# Download the punkt tokenizer (needed for word_tokenize)\n",
    "nltk.download('punkt')"
   ]
  },
  {
   "cell_type": "code",
   "execution_count": 42,
   "id": "b4e187d0-c83f-4ce1-a39c-af0ef33d40ea",
   "metadata": {},
   "outputs": [],
   "source": [
    "data[review_column] = data[review_column].apply(clean_text)"
   ]
  },
  {
   "cell_type": "code",
   "execution_count": 44,
   "id": "142cf5db-6cbf-46b2-aadd-8f757fcaf2b3",
   "metadata": {},
   "outputs": [],
   "source": [
    "from sklearn.preprocessing import LabelEncoder"
   ]
  },
  {
   "cell_type": "code",
   "execution_count": 46,
   "id": "371cb28d-02d8-4c6f-b0bd-2b4a45570f82",
   "metadata": {},
   "outputs": [],
   "source": [
    "# Encode target labels (e.g., Positive/Negative)\n",
    "label_encoder = LabelEncoder()\n",
    "data[sentiment_column] = label_encoder.fit_transform(data[sentiment_column])  # Convert strings to integers"
   ]
  },
  {
   "cell_type": "code",
   "execution_count": 48,
   "id": "78bb4d1b-41d9-44c2-95b5-429268bf2673",
   "metadata": {},
   "outputs": [],
   "source": [
    "from sklearn.model_selection import train_test_split"
   ]
  },
  {
   "cell_type": "code",
   "execution_count": 50,
   "id": "61863176-e7c6-40ae-b3a5-765d91fc245a",
   "metadata": {},
   "outputs": [],
   "source": [
    "# Split the data into training and test sets\n",
    "X = data[review_column]\n",
    "y = data[sentiment_column]\n",
    "X_train, X_test, y_train, y_test = train_test_split(X, y, test_size=0.2, random_state=42)"
   ]
  },
  {
   "cell_type": "code",
   "execution_count": 52,
   "id": "5d2ad456-f9ee-4033-b07d-f0199f96dcfa",
   "metadata": {},
   "outputs": [],
   "source": [
    "from sklearn.feature_extraction.text import TfidfVectorizer"
   ]
  },
  {
   "cell_type": "code",
   "execution_count": 54,
   "id": "d00840c7-7559-48a6-a07b-c3f40f3225b8",
   "metadata": {},
   "outputs": [],
   "source": [
    "# TF-IDF Vectorization with more features\n",
    "tfidf = TfidfVectorizer(max_features=8000, ngram_range=(1, 2))  # Use unigrams and bigrams\n",
    "X_train_tfidf = tfidf.fit_transform(X_train)\n",
    "X_test_tfidf = tfidf.transform(X_test)"
   ]
  },
  {
   "cell_type": "code",
   "execution_count": 56,
   "id": "a74255a5-e91d-4610-bbae-bf9007f94762",
   "metadata": {},
   "outputs": [],
   "source": [
    "from sklearn.utils.class_weight import compute_class_weight"
   ]
  },
  {
   "cell_type": "code",
   "execution_count": 58,
   "id": "7ee6625b-cf54-4963-9b29-42f6e93761de",
   "metadata": {},
   "outputs": [],
   "source": [
    "# Handle class imbalance by computing class weights\n",
    "class_weights = compute_class_weight('balanced', classes=np.unique(y_train), y=y_train)\n",
    "class_weight_dict = dict(enumerate(class_weights))"
   ]
  },
  {
   "cell_type": "code",
   "execution_count": 60,
   "id": "86d67066-e3d1-4c47-a119-3b03d618ec42",
   "metadata": {},
   "outputs": [],
   "source": [
    "from sklearn.linear_model import LogisticRegression"
   ]
  },
  {
   "cell_type": "code",
   "execution_count": 62,
   "id": "a9611006-9928-4093-9bd2-68c883706323",
   "metadata": {},
   "outputs": [
    {
     "data": {
      "text/html": [
       "<style>#sk-container-id-1 {\n",
       "  /* Definition of color scheme common for light and dark mode */\n",
       "  --sklearn-color-text: black;\n",
       "  --sklearn-color-line: gray;\n",
       "  /* Definition of color scheme for unfitted estimators */\n",
       "  --sklearn-color-unfitted-level-0: #fff5e6;\n",
       "  --sklearn-color-unfitted-level-1: #f6e4d2;\n",
       "  --sklearn-color-unfitted-level-2: #ffe0b3;\n",
       "  --sklearn-color-unfitted-level-3: chocolate;\n",
       "  /* Definition of color scheme for fitted estimators */\n",
       "  --sklearn-color-fitted-level-0: #f0f8ff;\n",
       "  --sklearn-color-fitted-level-1: #d4ebff;\n",
       "  --sklearn-color-fitted-level-2: #b3dbfd;\n",
       "  --sklearn-color-fitted-level-3: cornflowerblue;\n",
       "\n",
       "  /* Specific color for light theme */\n",
       "  --sklearn-color-text-on-default-background: var(--sg-text-color, var(--theme-code-foreground, var(--jp-content-font-color1, black)));\n",
       "  --sklearn-color-background: var(--sg-background-color, var(--theme-background, var(--jp-layout-color0, white)));\n",
       "  --sklearn-color-border-box: var(--sg-text-color, var(--theme-code-foreground, var(--jp-content-font-color1, black)));\n",
       "  --sklearn-color-icon: #696969;\n",
       "\n",
       "  @media (prefers-color-scheme: dark) {\n",
       "    /* Redefinition of color scheme for dark theme */\n",
       "    --sklearn-color-text-on-default-background: var(--sg-text-color, var(--theme-code-foreground, var(--jp-content-font-color1, white)));\n",
       "    --sklearn-color-background: var(--sg-background-color, var(--theme-background, var(--jp-layout-color0, #111)));\n",
       "    --sklearn-color-border-box: var(--sg-text-color, var(--theme-code-foreground, var(--jp-content-font-color1, white)));\n",
       "    --sklearn-color-icon: #878787;\n",
       "  }\n",
       "}\n",
       "\n",
       "#sk-container-id-1 {\n",
       "  color: var(--sklearn-color-text);\n",
       "}\n",
       "\n",
       "#sk-container-id-1 pre {\n",
       "  padding: 0;\n",
       "}\n",
       "\n",
       "#sk-container-id-1 input.sk-hidden--visually {\n",
       "  border: 0;\n",
       "  clip: rect(1px 1px 1px 1px);\n",
       "  clip: rect(1px, 1px, 1px, 1px);\n",
       "  height: 1px;\n",
       "  margin: -1px;\n",
       "  overflow: hidden;\n",
       "  padding: 0;\n",
       "  position: absolute;\n",
       "  width: 1px;\n",
       "}\n",
       "\n",
       "#sk-container-id-1 div.sk-dashed-wrapped {\n",
       "  border: 1px dashed var(--sklearn-color-line);\n",
       "  margin: 0 0.4em 0.5em 0.4em;\n",
       "  box-sizing: border-box;\n",
       "  padding-bottom: 0.4em;\n",
       "  background-color: var(--sklearn-color-background);\n",
       "}\n",
       "\n",
       "#sk-container-id-1 div.sk-container {\n",
       "  /* jupyter's `normalize.less` sets `[hidden] { display: none; }`\n",
       "     but bootstrap.min.css set `[hidden] { display: none !important; }`\n",
       "     so we also need the `!important` here to be able to override the\n",
       "     default hidden behavior on the sphinx rendered scikit-learn.org.\n",
       "     See: https://github.com/scikit-learn/scikit-learn/issues/21755 */\n",
       "  display: inline-block !important;\n",
       "  position: relative;\n",
       "}\n",
       "\n",
       "#sk-container-id-1 div.sk-text-repr-fallback {\n",
       "  display: none;\n",
       "}\n",
       "\n",
       "div.sk-parallel-item,\n",
       "div.sk-serial,\n",
       "div.sk-item {\n",
       "  /* draw centered vertical line to link estimators */\n",
       "  background-image: linear-gradient(var(--sklearn-color-text-on-default-background), var(--sklearn-color-text-on-default-background));\n",
       "  background-size: 2px 100%;\n",
       "  background-repeat: no-repeat;\n",
       "  background-position: center center;\n",
       "}\n",
       "\n",
       "/* Parallel-specific style estimator block */\n",
       "\n",
       "#sk-container-id-1 div.sk-parallel-item::after {\n",
       "  content: \"\";\n",
       "  width: 100%;\n",
       "  border-bottom: 2px solid var(--sklearn-color-text-on-default-background);\n",
       "  flex-grow: 1;\n",
       "}\n",
       "\n",
       "#sk-container-id-1 div.sk-parallel {\n",
       "  display: flex;\n",
       "  align-items: stretch;\n",
       "  justify-content: center;\n",
       "  background-color: var(--sklearn-color-background);\n",
       "  position: relative;\n",
       "}\n",
       "\n",
       "#sk-container-id-1 div.sk-parallel-item {\n",
       "  display: flex;\n",
       "  flex-direction: column;\n",
       "}\n",
       "\n",
       "#sk-container-id-1 div.sk-parallel-item:first-child::after {\n",
       "  align-self: flex-end;\n",
       "  width: 50%;\n",
       "}\n",
       "\n",
       "#sk-container-id-1 div.sk-parallel-item:last-child::after {\n",
       "  align-self: flex-start;\n",
       "  width: 50%;\n",
       "}\n",
       "\n",
       "#sk-container-id-1 div.sk-parallel-item:only-child::after {\n",
       "  width: 0;\n",
       "}\n",
       "\n",
       "/* Serial-specific style estimator block */\n",
       "\n",
       "#sk-container-id-1 div.sk-serial {\n",
       "  display: flex;\n",
       "  flex-direction: column;\n",
       "  align-items: center;\n",
       "  background-color: var(--sklearn-color-background);\n",
       "  padding-right: 1em;\n",
       "  padding-left: 1em;\n",
       "}\n",
       "\n",
       "\n",
       "/* Toggleable style: style used for estimator/Pipeline/ColumnTransformer box that is\n",
       "clickable and can be expanded/collapsed.\n",
       "- Pipeline and ColumnTransformer use this feature and define the default style\n",
       "- Estimators will overwrite some part of the style using the `sk-estimator` class\n",
       "*/\n",
       "\n",
       "/* Pipeline and ColumnTransformer style (default) */\n",
       "\n",
       "#sk-container-id-1 div.sk-toggleable {\n",
       "  /* Default theme specific background. It is overwritten whether we have a\n",
       "  specific estimator or a Pipeline/ColumnTransformer */\n",
       "  background-color: var(--sklearn-color-background);\n",
       "}\n",
       "\n",
       "/* Toggleable label */\n",
       "#sk-container-id-1 label.sk-toggleable__label {\n",
       "  cursor: pointer;\n",
       "  display: block;\n",
       "  width: 100%;\n",
       "  margin-bottom: 0;\n",
       "  padding: 0.5em;\n",
       "  box-sizing: border-box;\n",
       "  text-align: center;\n",
       "}\n",
       "\n",
       "#sk-container-id-1 label.sk-toggleable__label-arrow:before {\n",
       "  /* Arrow on the left of the label */\n",
       "  content: \"▸\";\n",
       "  float: left;\n",
       "  margin-right: 0.25em;\n",
       "  color: var(--sklearn-color-icon);\n",
       "}\n",
       "\n",
       "#sk-container-id-1 label.sk-toggleable__label-arrow:hover:before {\n",
       "  color: var(--sklearn-color-text);\n",
       "}\n",
       "\n",
       "/* Toggleable content - dropdown */\n",
       "\n",
       "#sk-container-id-1 div.sk-toggleable__content {\n",
       "  max-height: 0;\n",
       "  max-width: 0;\n",
       "  overflow: hidden;\n",
       "  text-align: left;\n",
       "  /* unfitted */\n",
       "  background-color: var(--sklearn-color-unfitted-level-0);\n",
       "}\n",
       "\n",
       "#sk-container-id-1 div.sk-toggleable__content.fitted {\n",
       "  /* fitted */\n",
       "  background-color: var(--sklearn-color-fitted-level-0);\n",
       "}\n",
       "\n",
       "#sk-container-id-1 div.sk-toggleable__content pre {\n",
       "  margin: 0.2em;\n",
       "  border-radius: 0.25em;\n",
       "  color: var(--sklearn-color-text);\n",
       "  /* unfitted */\n",
       "  background-color: var(--sklearn-color-unfitted-level-0);\n",
       "}\n",
       "\n",
       "#sk-container-id-1 div.sk-toggleable__content.fitted pre {\n",
       "  /* unfitted */\n",
       "  background-color: var(--sklearn-color-fitted-level-0);\n",
       "}\n",
       "\n",
       "#sk-container-id-1 input.sk-toggleable__control:checked~div.sk-toggleable__content {\n",
       "  /* Expand drop-down */\n",
       "  max-height: 200px;\n",
       "  max-width: 100%;\n",
       "  overflow: auto;\n",
       "}\n",
       "\n",
       "#sk-container-id-1 input.sk-toggleable__control:checked~label.sk-toggleable__label-arrow:before {\n",
       "  content: \"▾\";\n",
       "}\n",
       "\n",
       "/* Pipeline/ColumnTransformer-specific style */\n",
       "\n",
       "#sk-container-id-1 div.sk-label input.sk-toggleable__control:checked~label.sk-toggleable__label {\n",
       "  color: var(--sklearn-color-text);\n",
       "  background-color: var(--sklearn-color-unfitted-level-2);\n",
       "}\n",
       "\n",
       "#sk-container-id-1 div.sk-label.fitted input.sk-toggleable__control:checked~label.sk-toggleable__label {\n",
       "  background-color: var(--sklearn-color-fitted-level-2);\n",
       "}\n",
       "\n",
       "/* Estimator-specific style */\n",
       "\n",
       "/* Colorize estimator box */\n",
       "#sk-container-id-1 div.sk-estimator input.sk-toggleable__control:checked~label.sk-toggleable__label {\n",
       "  /* unfitted */\n",
       "  background-color: var(--sklearn-color-unfitted-level-2);\n",
       "}\n",
       "\n",
       "#sk-container-id-1 div.sk-estimator.fitted input.sk-toggleable__control:checked~label.sk-toggleable__label {\n",
       "  /* fitted */\n",
       "  background-color: var(--sklearn-color-fitted-level-2);\n",
       "}\n",
       "\n",
       "#sk-container-id-1 div.sk-label label.sk-toggleable__label,\n",
       "#sk-container-id-1 div.sk-label label {\n",
       "  /* The background is the default theme color */\n",
       "  color: var(--sklearn-color-text-on-default-background);\n",
       "}\n",
       "\n",
       "/* On hover, darken the color of the background */\n",
       "#sk-container-id-1 div.sk-label:hover label.sk-toggleable__label {\n",
       "  color: var(--sklearn-color-text);\n",
       "  background-color: var(--sklearn-color-unfitted-level-2);\n",
       "}\n",
       "\n",
       "/* Label box, darken color on hover, fitted */\n",
       "#sk-container-id-1 div.sk-label.fitted:hover label.sk-toggleable__label.fitted {\n",
       "  color: var(--sklearn-color-text);\n",
       "  background-color: var(--sklearn-color-fitted-level-2);\n",
       "}\n",
       "\n",
       "/* Estimator label */\n",
       "\n",
       "#sk-container-id-1 div.sk-label label {\n",
       "  font-family: monospace;\n",
       "  font-weight: bold;\n",
       "  display: inline-block;\n",
       "  line-height: 1.2em;\n",
       "}\n",
       "\n",
       "#sk-container-id-1 div.sk-label-container {\n",
       "  text-align: center;\n",
       "}\n",
       "\n",
       "/* Estimator-specific */\n",
       "#sk-container-id-1 div.sk-estimator {\n",
       "  font-family: monospace;\n",
       "  border: 1px dotted var(--sklearn-color-border-box);\n",
       "  border-radius: 0.25em;\n",
       "  box-sizing: border-box;\n",
       "  margin-bottom: 0.5em;\n",
       "  /* unfitted */\n",
       "  background-color: var(--sklearn-color-unfitted-level-0);\n",
       "}\n",
       "\n",
       "#sk-container-id-1 div.sk-estimator.fitted {\n",
       "  /* fitted */\n",
       "  background-color: var(--sklearn-color-fitted-level-0);\n",
       "}\n",
       "\n",
       "/* on hover */\n",
       "#sk-container-id-1 div.sk-estimator:hover {\n",
       "  /* unfitted */\n",
       "  background-color: var(--sklearn-color-unfitted-level-2);\n",
       "}\n",
       "\n",
       "#sk-container-id-1 div.sk-estimator.fitted:hover {\n",
       "  /* fitted */\n",
       "  background-color: var(--sklearn-color-fitted-level-2);\n",
       "}\n",
       "\n",
       "/* Specification for estimator info (e.g. \"i\" and \"?\") */\n",
       "\n",
       "/* Common style for \"i\" and \"?\" */\n",
       "\n",
       ".sk-estimator-doc-link,\n",
       "a:link.sk-estimator-doc-link,\n",
       "a:visited.sk-estimator-doc-link {\n",
       "  float: right;\n",
       "  font-size: smaller;\n",
       "  line-height: 1em;\n",
       "  font-family: monospace;\n",
       "  background-color: var(--sklearn-color-background);\n",
       "  border-radius: 1em;\n",
       "  height: 1em;\n",
       "  width: 1em;\n",
       "  text-decoration: none !important;\n",
       "  margin-left: 1ex;\n",
       "  /* unfitted */\n",
       "  border: var(--sklearn-color-unfitted-level-1) 1pt solid;\n",
       "  color: var(--sklearn-color-unfitted-level-1);\n",
       "}\n",
       "\n",
       ".sk-estimator-doc-link.fitted,\n",
       "a:link.sk-estimator-doc-link.fitted,\n",
       "a:visited.sk-estimator-doc-link.fitted {\n",
       "  /* fitted */\n",
       "  border: var(--sklearn-color-fitted-level-1) 1pt solid;\n",
       "  color: var(--sklearn-color-fitted-level-1);\n",
       "}\n",
       "\n",
       "/* On hover */\n",
       "div.sk-estimator:hover .sk-estimator-doc-link:hover,\n",
       ".sk-estimator-doc-link:hover,\n",
       "div.sk-label-container:hover .sk-estimator-doc-link:hover,\n",
       ".sk-estimator-doc-link:hover {\n",
       "  /* unfitted */\n",
       "  background-color: var(--sklearn-color-unfitted-level-3);\n",
       "  color: var(--sklearn-color-background);\n",
       "  text-decoration: none;\n",
       "}\n",
       "\n",
       "div.sk-estimator.fitted:hover .sk-estimator-doc-link.fitted:hover,\n",
       ".sk-estimator-doc-link.fitted:hover,\n",
       "div.sk-label-container:hover .sk-estimator-doc-link.fitted:hover,\n",
       ".sk-estimator-doc-link.fitted:hover {\n",
       "  /* fitted */\n",
       "  background-color: var(--sklearn-color-fitted-level-3);\n",
       "  color: var(--sklearn-color-background);\n",
       "  text-decoration: none;\n",
       "}\n",
       "\n",
       "/* Span, style for the box shown on hovering the info icon */\n",
       ".sk-estimator-doc-link span {\n",
       "  display: none;\n",
       "  z-index: 9999;\n",
       "  position: relative;\n",
       "  font-weight: normal;\n",
       "  right: .2ex;\n",
       "  padding: .5ex;\n",
       "  margin: .5ex;\n",
       "  width: min-content;\n",
       "  min-width: 20ex;\n",
       "  max-width: 50ex;\n",
       "  color: var(--sklearn-color-text);\n",
       "  box-shadow: 2pt 2pt 4pt #999;\n",
       "  /* unfitted */\n",
       "  background: var(--sklearn-color-unfitted-level-0);\n",
       "  border: .5pt solid var(--sklearn-color-unfitted-level-3);\n",
       "}\n",
       "\n",
       ".sk-estimator-doc-link.fitted span {\n",
       "  /* fitted */\n",
       "  background: var(--sklearn-color-fitted-level-0);\n",
       "  border: var(--sklearn-color-fitted-level-3);\n",
       "}\n",
       "\n",
       ".sk-estimator-doc-link:hover span {\n",
       "  display: block;\n",
       "}\n",
       "\n",
       "/* \"?\"-specific style due to the `<a>` HTML tag */\n",
       "\n",
       "#sk-container-id-1 a.estimator_doc_link {\n",
       "  float: right;\n",
       "  font-size: 1rem;\n",
       "  line-height: 1em;\n",
       "  font-family: monospace;\n",
       "  background-color: var(--sklearn-color-background);\n",
       "  border-radius: 1rem;\n",
       "  height: 1rem;\n",
       "  width: 1rem;\n",
       "  text-decoration: none;\n",
       "  /* unfitted */\n",
       "  color: var(--sklearn-color-unfitted-level-1);\n",
       "  border: var(--sklearn-color-unfitted-level-1) 1pt solid;\n",
       "}\n",
       "\n",
       "#sk-container-id-1 a.estimator_doc_link.fitted {\n",
       "  /* fitted */\n",
       "  border: var(--sklearn-color-fitted-level-1) 1pt solid;\n",
       "  color: var(--sklearn-color-fitted-level-1);\n",
       "}\n",
       "\n",
       "/* On hover */\n",
       "#sk-container-id-1 a.estimator_doc_link:hover {\n",
       "  /* unfitted */\n",
       "  background-color: var(--sklearn-color-unfitted-level-3);\n",
       "  color: var(--sklearn-color-background);\n",
       "  text-decoration: none;\n",
       "}\n",
       "\n",
       "#sk-container-id-1 a.estimator_doc_link.fitted:hover {\n",
       "  /* fitted */\n",
       "  background-color: var(--sklearn-color-fitted-level-3);\n",
       "}\n",
       "</style><div id=\"sk-container-id-1\" class=\"sk-top-container\"><div class=\"sk-text-repr-fallback\"><pre>LogisticRegression(class_weight={0: 2.7800925925925926, 1: 0.6096446700507614},\n",
       "                   max_iter=1000)</pre><b>In a Jupyter environment, please rerun this cell to show the HTML representation or trust the notebook. <br />On GitHub, the HTML representation is unable to render, please try loading this page with nbviewer.org.</b></div><div class=\"sk-container\" hidden><div class=\"sk-item\"><div class=\"sk-estimator fitted sk-toggleable\"><input class=\"sk-toggleable__control sk-hidden--visually\" id=\"sk-estimator-id-1\" type=\"checkbox\" checked><label for=\"sk-estimator-id-1\" class=\"sk-toggleable__label fitted sk-toggleable__label-arrow fitted\">&nbsp;&nbsp;LogisticRegression<a class=\"sk-estimator-doc-link fitted\" rel=\"noreferrer\" target=\"_blank\" href=\"https://scikit-learn.org/1.5/modules/generated/sklearn.linear_model.LogisticRegression.html\">?<span>Documentation for LogisticRegression</span></a><span class=\"sk-estimator-doc-link fitted\">i<span>Fitted</span></span></label><div class=\"sk-toggleable__content fitted\"><pre>LogisticRegression(class_weight={0: 2.7800925925925926, 1: 0.6096446700507614},\n",
       "                   max_iter=1000)</pre></div> </div></div></div></div>"
      ],
      "text/plain": [
       "LogisticRegression(class_weight={0: 2.7800925925925926, 1: 0.6096446700507614},\n",
       "                   max_iter=1000)"
      ]
     },
     "execution_count": 62,
     "metadata": {},
     "output_type": "execute_result"
    }
   ],
   "source": [
    "# Logistic Regression Model with class weights\n",
    "model = LogisticRegression(class_weight=class_weight_dict, max_iter=1000)\n",
    "model.fit(X_train_tfidf, y_train)"
   ]
  },
  {
   "cell_type": "code",
   "execution_count": 64,
   "id": "56a42ae6-004b-49e0-af37-e6c73c91c324",
   "metadata": {},
   "outputs": [],
   "source": [
    "# Predictions\n",
    "y_pred = model.predict(X_test_tfidf)"
   ]
  },
  {
   "cell_type": "code",
   "execution_count": 66,
   "id": "3ee4e78b-41f6-45a7-a408-e137a244963d",
   "metadata": {},
   "outputs": [],
   "source": [
    "from sklearn.metrics import accuracy_score, classification_report, confusion_matrix"
   ]
  },
  {
   "cell_type": "code",
   "execution_count": 68,
   "id": "8e86599c-07c6-4e0f-ba83-0e76784a736c",
   "metadata": {},
   "outputs": [
    {
     "name": "stdout",
     "output_type": "stream",
     "text": [
      "\n",
      "Model Accuracy: 0.9435215946843853\n"
     ]
    }
   ],
   "source": [
    "# Evaluation\n",
    "accuracy = accuracy_score(y_test, y_pred)\n",
    "print(\"\\nModel Accuracy:\", accuracy)"
   ]
  },
  {
   "cell_type": "code",
   "execution_count": 70,
   "id": "cfc7b15b-14f7-4e2c-892a-dc1990bed803",
   "metadata": {},
   "outputs": [
    {
     "name": "stdout",
     "output_type": "stream",
     "text": [
      "\n",
      "Classification Report:\n",
      "              precision    recall  f1-score   support\n",
      "\n",
      "    Negative       0.81      0.86      0.83        49\n",
      "    Positive       0.97      0.96      0.97       252\n",
      "\n",
      "    accuracy                           0.94       301\n",
      "   macro avg       0.89      0.91      0.90       301\n",
      "weighted avg       0.95      0.94      0.94       301\n",
      "\n"
     ]
    }
   ],
   "source": [
    "print(\"\\nClassification Report:\")\n",
    "print(classification_report(y_test, y_pred, target_names=label_encoder.classes_))"
   ]
  },
  {
   "cell_type": "code",
   "execution_count": 72,
   "id": "cffe55ca-26c2-4d81-9655-f4437204fbee",
   "metadata": {},
   "outputs": [
    {
     "name": "stdout",
     "output_type": "stream",
     "text": [
      "\n",
      "Confusion Matrix:\n",
      "[[ 42   7]\n",
      " [ 10 242]]\n"
     ]
    }
   ],
   "source": [
    "print(\"\\nConfusion Matrix:\")\n",
    "print(confusion_matrix(y_test, y_pred))"
   ]
  },
  {
   "cell_type": "code",
   "execution_count": 74,
   "id": "3280918b-536a-42d7-8aef-14dfe77df89f",
   "metadata": {},
   "outputs": [],
   "source": [
    "import pickle"
   ]
  },
  {
   "cell_type": "code",
   "execution_count": 76,
   "id": "ff0cc30e-3b62-4d18-b57a-d6e0ccaa115e",
   "metadata": {},
   "outputs": [],
   "source": [
    "# Save TF-IDF Vectorizer and Model\n",
    "with open(\"tfidf_vectorizer.pkl\", \"wb\") as f:\n",
    "    pickle.dump(tfidf, f)\n",
    "\n",
    "with open(\"logistic_regression_model.pkl\", \"wb\") as f:\n",
    "    pickle.dump(model, f)"
   ]
  },
  {
   "cell_type": "code",
   "execution_count": 78,
   "id": "3e569837-12b7-4984-bf38-7695a13d8431",
   "metadata": {},
   "outputs": [],
   "source": [
    "# Example Prediction\n",
    "def predict_sentiment(review):\n",
    "    \"\"\"Predicts the sentiment of a single review.\"\"\"\n",
    "    review_cleaned = clean_text(review)\n",
    "    review_vectorized = tfidf.transform([review_cleaned])\n",
    "    sentiment_encoded = model.predict(review_vectorized)[0]\n",
    "    sentiment_label = label_encoder.inverse_transform([sentiment_encoded])[0]\n",
    "    return sentiment_label"
   ]
  },
  {
   "cell_type": "code",
   "execution_count": 88,
   "id": "94043cec-ec32-4860-ad6f-985a3d833d7a",
   "metadata": {},
   "outputs": [
    {
     "name": "stdout",
     "output_type": "stream",
     "text": [
      "\n",
      "Example Review: The food was absolutely wonderful, from preparation to presentation, very pleasing.\n",
      "Predicted Sentiment: Positive\n"
     ]
    }
   ],
   "source": [
    "# Example Usage 1\n",
    "example_review = \"The food was absolutely wonderful, from preparation to presentation, very pleasing.\"\n",
    "predicted_sentiment = predict_sentiment(example_review) \n",
    "print(\"\\nExample Review:\", example_review) \n",
    "print(\"Predicted Sentiment:\", predicted_sentiment) "
   ]
  },
  {
   "cell_type": "code",
   "execution_count": 90,
   "id": "1c4e5d3a-2a5d-418f-82c2-06b1fd59d4ca",
   "metadata": {},
   "outputs": [
    {
     "name": "stdout",
     "output_type": "stream",
     "text": [
      "\n",
      "Example Review: The food was terrible, I would never come back. Very disappointing.\n",
      "Predicted Sentiment: Negative\n"
     ]
    }
   ],
   "source": [
    "# Example Usage 2\n",
    "example_review = \"The food was terrible, I would never come back. Very disappointing.\"\n",
    "predicted_sentiment = predict_sentiment(example_review) \n",
    "print(\"\\nExample Review:\", example_review) \n",
    "print(\"Predicted Sentiment:\", predicted_sentiment) "
   ]
  },
  {
   "cell_type": "code",
   "execution_count": 92,
   "id": "8e6aea5d-ce25-452c-8e90-8a8fff98d37b",
   "metadata": {},
   "outputs": [
    {
     "name": "stdout",
     "output_type": "stream",
     "text": [
      "\n",
      "Example Review: I booked online as it was our anniversary, the food was fantastic along with the service. The staff had a wealth of knowledge about the food and wines, I will be going back. To my surprise the bill should have been 170 Euro bu because I booked online, the gave me 10percent off. Paying 160 Euro for 7 course fine dining restaurant is very reasonable especially in Rome, I would highly recommended.\n",
      "Predicted Sentiment: Positive\n"
     ]
    }
   ],
   "source": [
    "# Example Usage 3\n",
    "example_review = \"I booked online as it was our anniversary, the food was fantastic along with the service. The staff had a wealth of knowledge about the food and wines, I will be going back. To my surprise the bill should have been 170 Euro bu because I booked online, the gave me 10percent off. Paying 160 Euro for 7 course fine dining restaurant is very reasonable especially in Rome, I would highly recommended.\"\n",
    "predicted_sentiment = predict_sentiment(example_review) \n",
    "print(\"\\nExample Review:\", example_review) \n",
    "print(\"Predicted Sentiment:\", predicted_sentiment) "
   ]
  },
  {
   "cell_type": "code",
   "execution_count": null,
   "id": "35f9277e-9fa9-47dd-b1af-e9d8987e0729",
   "metadata": {},
   "outputs": [],
   "source": []
  }
 ],
 "metadata": {
  "kernelspec": {
   "display_name": "Python [conda env:base] *",
   "language": "python",
   "name": "conda-base-py"
  },
  "language_info": {
   "codemirror_mode": {
    "name": "ipython",
    "version": 3
   },
   "file_extension": ".py",
   "mimetype": "text/x-python",
   "name": "python",
   "nbconvert_exporter": "python",
   "pygments_lexer": "ipython3",
   "version": "3.12.7"
  }
 },
 "nbformat": 4,
 "nbformat_minor": 5
}
